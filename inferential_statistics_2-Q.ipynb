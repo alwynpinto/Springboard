{
 "cells": [
  {
   "cell_type": "markdown",
   "metadata": {},
   "source": [
    "# Inferential statistics II - Bootstrapping"
   ]
  },
  {
   "cell_type": "markdown",
   "metadata": {},
   "source": [
    "## Introduction"
   ]
  },
  {
   "cell_type": "markdown",
   "metadata": {},
   "source": [
    "In the previous frequentist mini-projects, you did frequentist calculations to perform inference from a sample of data. Such inference relies on theory largely developed from the 19th-Century onwards that is subject to certain assumptions or theoretical limits. These are fine if those assumptions hold for the particular case you're working on, and what you want to do has a known theoretical distribution (for example the mean of a sampling distribution that we looked at in the previous mini-project.)"
   ]
  },
  {
   "cell_type": "markdown",
   "metadata": {},
   "source": [
    "In this mini-project, you'll use the same medical charge data you used in the frequentist inference mini-project, but this time you'll make inferences about the population using bootstrapping (ie. simulating repeated re-runs of an experiment.) If frequentism is about using assumptions and theoretical results to calculate what we expect to happen were an experiment to be run again and again and again, then bootstrapping is about using computing power to essentially re-run the sample draw again and again and again to see what actually happens."
   ]
  },
  {
   "cell_type": "markdown",
   "metadata": {},
   "source": [
    "## Prerequisites"
   ]
  },
  {
   "cell_type": "markdown",
   "metadata": {},
   "source": [
    "While these exercises do not strictly depend on these concepts, we encourage you to complete the previous mini-projects before starting this one so that you can approach this assignment with a good understanding of frequentist concepts like:\n",
    "* the _z_-statistic\n",
    "* the _t_-statistic\n",
    "* the difference and relationship between the two\n",
    "* the Central Limit Theorem, its assumptions and consequences\n",
    "* how to estimate the population mean and standard deviation from a sample\n",
    "* the concept of a sampling distribution of a test statistic, particularly for the mean\n",
    "* how to combine these concepts to calculate confidence intervals and p-values\n",
    "* how those confidence intervals and p-values allow you to perform hypothesis (or A/B) tests"
   ]
  },
  {
   "cell_type": "markdown",
   "metadata": {},
   "source": [
    "To complete mini-project, it's important that you first complete the bootstrap resources listed in this subunit, as they contain valuable information about how to calculate bootstrap replicates of summary statistics. Having an basic understanding of what confidence intervals and p-values are will also be helpful (we touch on them in this mini-project, but please speak to your mentor or conduct individual research if you'd like to learn more.) "
   ]
  },
  {
   "cell_type": "code",
   "execution_count": 2,
   "metadata": {},
   "outputs": [],
   "source": [
    "import pandas as pd\n",
    "import numpy as np\n",
    "from scipy.stats import t\n",
    "import scipy.stats as stats\n",
    "from numpy.random import seed\n",
    "import matplotlib.pyplot as plt"
   ]
  },
  {
   "cell_type": "markdown",
   "metadata": {},
   "source": [
    "## Medical charge data set"
   ]
  },
  {
   "cell_type": "code",
   "execution_count": 3,
   "metadata": {},
   "outputs": [],
   "source": [
    "med_charges = pd.read_csv('data/insurance2.csv')\n",
    "charges = med_charges['charges']"
   ]
  },
  {
   "cell_type": "code",
   "execution_count": 4,
   "metadata": {},
   "outputs": [
    {
     "data": {
      "text/html": [
       "<div>\n",
       "<style scoped>\n",
       "    .dataframe tbody tr th:only-of-type {\n",
       "        vertical-align: middle;\n",
       "    }\n",
       "\n",
       "    .dataframe tbody tr th {\n",
       "        vertical-align: top;\n",
       "    }\n",
       "\n",
       "    .dataframe thead th {\n",
       "        text-align: right;\n",
       "    }\n",
       "</style>\n",
       "<table border=\"1\" class=\"dataframe\">\n",
       "  <thead>\n",
       "    <tr style=\"text-align: right;\">\n",
       "      <th></th>\n",
       "      <th>age</th>\n",
       "      <th>sex</th>\n",
       "      <th>bmi</th>\n",
       "      <th>children</th>\n",
       "      <th>smoker</th>\n",
       "      <th>region</th>\n",
       "      <th>charges</th>\n",
       "      <th>insuranceclaim</th>\n",
       "    </tr>\n",
       "  </thead>\n",
       "  <tbody>\n",
       "    <tr>\n",
       "      <td>0</td>\n",
       "      <td>19</td>\n",
       "      <td>0</td>\n",
       "      <td>27.900</td>\n",
       "      <td>0</td>\n",
       "      <td>1</td>\n",
       "      <td>3</td>\n",
       "      <td>16884.92400</td>\n",
       "      <td>1</td>\n",
       "    </tr>\n",
       "    <tr>\n",
       "      <td>1</td>\n",
       "      <td>18</td>\n",
       "      <td>1</td>\n",
       "      <td>33.770</td>\n",
       "      <td>1</td>\n",
       "      <td>0</td>\n",
       "      <td>2</td>\n",
       "      <td>1725.55230</td>\n",
       "      <td>1</td>\n",
       "    </tr>\n",
       "    <tr>\n",
       "      <td>2</td>\n",
       "      <td>28</td>\n",
       "      <td>1</td>\n",
       "      <td>33.000</td>\n",
       "      <td>3</td>\n",
       "      <td>0</td>\n",
       "      <td>2</td>\n",
       "      <td>4449.46200</td>\n",
       "      <td>0</td>\n",
       "    </tr>\n",
       "    <tr>\n",
       "      <td>3</td>\n",
       "      <td>33</td>\n",
       "      <td>1</td>\n",
       "      <td>22.705</td>\n",
       "      <td>0</td>\n",
       "      <td>0</td>\n",
       "      <td>1</td>\n",
       "      <td>21984.47061</td>\n",
       "      <td>0</td>\n",
       "    </tr>\n",
       "    <tr>\n",
       "      <td>4</td>\n",
       "      <td>32</td>\n",
       "      <td>1</td>\n",
       "      <td>28.880</td>\n",
       "      <td>0</td>\n",
       "      <td>0</td>\n",
       "      <td>1</td>\n",
       "      <td>3866.85520</td>\n",
       "      <td>1</td>\n",
       "    </tr>\n",
       "  </tbody>\n",
       "</table>\n",
       "</div>"
      ],
      "text/plain": [
       "   age  sex     bmi  children  smoker  region      charges  insuranceclaim\n",
       "0   19    0  27.900         0       1       3  16884.92400               1\n",
       "1   18    1  33.770         1       0       2   1725.55230               1\n",
       "2   28    1  33.000         3       0       2   4449.46200               0\n",
       "3   33    1  22.705         0       0       1  21984.47061               0\n",
       "4   32    1  28.880         0       0       1   3866.85520               1"
      ]
     },
     "execution_count": 4,
     "metadata": {},
     "output_type": "execute_result"
    }
   ],
   "source": [
    "med_charges.head()"
   ]
  },
  {
   "cell_type": "markdown",
   "metadata": {},
   "source": [
    "In the previous assignment, you used the frequentist approach to estimate the lower limit for the 95% confidence interval on the mean hospital charge. This approach relies on statistical theory that has been developed over the years and is also limited to statistics for which theoretical results on the sampling distribution exist. These results are remarkably useful and applicable much of the time and under a surprisingly wide range of conditions."
   ]
  },
  {
   "cell_type": "markdown",
   "metadata": {},
   "source": [
    "Having calculated the 95% lower confidence interval using frequentist theory in the previous exercise, you'll now use bootstrap inference to verify your calculations and check that you get consistent results without making the assumptions required before. After all, the distribution of charges really was very non-normal."
   ]
  },
  {
   "cell_type": "markdown",
   "metadata": {},
   "source": [
    "__Q:__ Use bootstrap sampling to estimate the same 95% confidence interval lower limit as before."
   ]
  },
  {
   "cell_type": "markdown",
   "metadata": {},
   "source": [
    "__A:__"
   ]
  },
  {
   "cell_type": "code",
   "execution_count": 5,
   "metadata": {},
   "outputs": [],
   "source": [
    "np.random.seed(47)\n",
    "N_rep = 10000\n",
    "\n",
    "\n",
    "def bootstrap_replicates_1d(data,func):\n",
    "    '''Draws bootstrap replicates of 1D data'''\n",
    "    bs_sample = np.random.choice(data,len(data))\n",
    "    return func(bs_sample)\n",
    "\n",
    "def draw_bs_reps(data,func,size=1):\n",
    "    '''Draw bootstrap replicates'''\n",
    "    bs_replicate = np.empty(N_rep)\n",
    "    \n",
    "    #Generate replicates\n",
    "    for i in range(size):\n",
    "        bs_replicate[i] = bootstrap_replicates_1d(data,func)\n",
    "        \n",
    "    return bs_replicate"
   ]
  },
  {
   "cell_type": "code",
   "execution_count": 6,
   "metadata": {
    "scrolled": true
   },
   "outputs": [
    {
     "data": {
      "text/plain": [
       "13268.292567069491"
      ]
     },
     "execution_count": 6,
     "metadata": {},
     "output_type": "execute_result"
    }
   ],
   "source": [
    "bs_replicates_meancharges=draw_bs_reps(charges,np.mean,size=10000)\n",
    "np.mean(bs_replicates_meancharges)"
   ]
  },
  {
   "cell_type": "code",
   "execution_count": 7,
   "metadata": {},
   "outputs": [
    {
     "data": {
      "text/plain": [
       "array([12624.86211913, 13918.00929997])"
      ]
     },
     "execution_count": 7,
     "metadata": {},
     "output_type": "execute_result"
    }
   ],
   "source": [
    "conf_int_bs_meancharges = np.percentile(bs_replicates_meancharges,[2.5,97.5])\n",
    "conf_int_bs_meancharges"
   ]
  },
  {
   "cell_type": "markdown",
   "metadata": {},
   "source": [
    "If you performed 10000 replicates immediately after setting the random seed to 47, you should get the value 12724 here, which compares very well with the value 12725 obtained using the _t_-distribution confidence interval previously. It is a most pleasant result to see the predictions of classical frequentist theory match with results that are now possible through the number-crunching ability of computers."
   ]
  },
  {
   "cell_type": "markdown",
   "metadata": {},
   "source": [
    "Remember, in the previous mini-projects, we saw that there are two ways of performing a _t_-test from a sample, depending on whether we can assume the groups have equal variance or not. We can actually easily test this using the bootstrap approach!"
   ]
  },
  {
   "cell_type": "markdown",
   "metadata": {},
   "source": [
    "__Q:__ Calculate the 95% confidence interval for the difference between the standard deviations of insurance and non-insurance claim charges (insured - non-insured). Calculate the differences over 10000 replicates. Plot the histogram of values and mark the locations of the percentiles. State the null and alternative hypothesis and comment on whether you would retain or reject the null hypothesis in this case and why."
   ]
  },
  {
   "cell_type": "markdown",
   "metadata": {},
   "source": [
    "__A:__"
   ]
  },
  {
   "cell_type": "code",
   "execution_count": null,
   "metadata": {},
   "outputs": [],
   "source": [
    "# Hypothesis: There is no difference between the std dev of insured and uninsured patients\n",
    "# Alternative Hypothesis: We have a variation in the std dev between the insured and uninsured patients\n",
    "95% confidence interval with alpha to 0.05"
   ]
  },
  {
   "cell_type": "code",
   "execution_count": 8,
   "metadata": {},
   "outputs": [
    {
     "data": {
      "text/plain": [
       "7596.256408655178"
      ]
     },
     "execution_count": 8,
     "metadata": {},
     "output_type": "execute_result"
    }
   ],
   "source": [
    "insurance = med_charges[med_charges['insuranceclaim']==1]['charges']\n",
    "no_insurance = med_charges[med_charges['insuranceclaim']==0]['charges']\n",
    "\n",
    "diff_stddev_charges = np.std(insurance) - np.std(no_insurance)\n",
    "diff_stddev_charges"
   ]
  },
  {
   "cell_type": "code",
   "execution_count": 45,
   "metadata": {},
   "outputs": [],
   "source": [
    "def diff_of_stddev(data1,data2):\n",
    "    diff = np.std(data1) - np.std(data2)\n",
    "    return diff\n",
    "\n",
    "def permutation_sample(data1,data2):\n",
    "    data = np.concatenate((data1,data2))\n",
    "    permuted_data = np.random.permutation(data)\n",
    "    perm_sample_1 = permuted_data[:len(data1)]\n",
    "    perm_sample_2 = permuted_data[len(data1):]\n",
    "    return perm_sample_1 , perm_sample_2\n",
    "    #return perm_sample_1.shape ,perm_sample_2.shape\n",
    "\n",
    "def draw_perm_reps_func_diff(data1,data2,func,size=1):\n",
    "    perm_replicates = np.empty(size)\n",
    "    for i in range(size):\n",
    "        perm_sample_1 , perm_sample_2 = permutation_sample(data1,data2)\n",
    "        perm_replicates[i] = func(perm_sample_1) - func(perm_sample_2)\n",
    "    return perm_sample_1\n",
    "    return perm_sample_2\n",
    "    return perm_replicates"
   ]
  },
  {
   "cell_type": "code",
   "execution_count": 47,
   "metadata": {},
   "outputs": [],
   "source": [
    "empirical_diff_of_stddev = diff_of_stddev(insurance,no_insurance)\n",
    "empirical_diff_of_stddev\n",
    "charges_stddev_diff_perm_replicates = draw_perm_reps_func_diff(insurance,no_insurance,np.std,size=10000)"
   ]
  },
  {
   "cell_type": "code",
   "execution_count": 48,
   "metadata": {},
   "outputs": [],
   "source": [
    "conf_int_stddev_diff = np.percentile(charges_stddev_diff_perm_replicates,[2.5,97.5])"
   ]
  },
  {
   "cell_type": "code",
   "execution_count": 50,
   "metadata": {},
   "outputs": [
    {
     "data": {
      "text/plain": [
       "array([ 3277.161   ,  8582.3023  ,  6877.9801  ,  4746.344   ,\n",
       "        2709.1119  ,  5425.02335 ,  2904.088   ,  9249.4952  ,\n",
       "       13470.86    , 40974.1649  ,  5428.7277  , 14988.432   ,\n",
       "        4670.64    , 13129.60345 , 11356.6609  ,  6746.7425  ,\n",
       "       11512.405   ,  9634.538   , 20234.85475 , 18310.742   ,\n",
       "        8233.0975  , 38282.7495  ,  7804.1605  , 18806.14547 ,\n",
       "       19350.3689  ,  2721.3208  , 14283.4594  ,  1639.5631  ,\n",
       "       26926.5144  , 48173.361   , 21259.37795 , 43943.8761  ,\n",
       "        3561.8889  , 43254.41795 ,  8116.68    ,  6435.6237  ,\n",
       "        9566.9909  , 55135.40209 , 10493.9458  ,  8252.2843  ,\n",
       "        9290.1395  , 20878.78443 , 60021.39897 , 11657.7189  ,\n",
       "       19023.26    , 13224.693   ,  3861.20965 , 14455.64405 ,\n",
       "       10156.7832  , 11881.358   ,  1712.227   , 10942.13205 ,\n",
       "        7243.8136  ,  3875.7341  , 23887.6627  ,  6837.3687  ,\n",
       "       21659.9301  ,  7228.21565 ,  1719.4363  , 18246.4955  ,\n",
       "        1980.07    , 24106.91255 , 11743.299   ,  7222.78625 ,\n",
       "       27218.43725 ,  1727.54    ,  9877.6077  ,  7173.35995 ,\n",
       "        6500.2359  , 30942.1918  ,  8124.4084  , 45008.9555  ,\n",
       "        8603.8234  ,  1635.73365 , 44501.3982  ,  3062.50825 ,\n",
       "        3645.0894  , 21098.55405 ,  7201.70085 ,  5240.765   ,\n",
       "        8823.98575 ,  3704.3545  ,  9432.9253  ,  4562.8421  ,\n",
       "        6985.50695 , 11264.541   , 27346.04207 ,  2913.569   ,\n",
       "       19964.7463  ,  8062.764   , 12950.0712  , 18648.4217  ,\n",
       "       17179.522   ,  2198.18985 , 11488.31695 ,  4466.6214  ,\n",
       "       23568.272   ,  4260.744   , 10435.06525 ,  6652.5288  ,\n",
       "       39722.7462  ,  3046.062   ,  7626.993   ,  7209.4918  ,\n",
       "       47496.49445 , 12124.9924  , 16069.08475 , 30259.99556 ,\n",
       "       34254.05335 , 11362.755   , 10118.424   ,  1253.936   ,\n",
       "        2128.43105 , 12235.8392  , 11353.2276  , 11482.63485 ,\n",
       "       15828.82173 ,  1731.677   , 47462.894   , 11879.10405 ,\n",
       "       25656.57526 ,  9487.6442  ,  8798.593   ,  9288.0267  ,\n",
       "       20420.60465 , 37484.4493  , 10107.2206  ,  3208.787   ,\n",
       "       36149.4835  , 33471.97189 ,  7147.105   ,  9500.57305 ,\n",
       "       27533.9129  , 11394.06555 ,  3481.868   ,  1964.78    ,\n",
       "       21223.6758  , 13747.87235 , 18765.87545 ,  6113.23105 ,\n",
       "        2523.1695  ,  8835.26495 ,  8551.347   ,  6067.12675 ,\n",
       "        4877.98105 ,  7323.734819,  1837.2819  ,  8023.13545 ,\n",
       "       14349.8544  ,  8310.83915 , 13143.86485 ,  7358.17565 ,\n",
       "        4347.02335 , 46151.1245  ,  4837.5823  , 36910.60803 ,\n",
       "        8232.6388  ,  2480.9791  ,  6128.79745 , 14319.031   ,\n",
       "       14478.33015 ,  3732.6251  , 16085.1275  ,  1711.0268  ,\n",
       "        5469.0066  ,  6799.458   ,  6079.6715  ,  8539.671   ,\n",
       "        3309.7926  ,  4449.462   , 24520.264   ,  8219.2039  ,\n",
       "       10407.08585 , 42560.4304  ,  9386.1613  ,  3579.8287  ,\n",
       "        5375.038   ,  2156.7518  ,  2585.85065 ,  3972.9247  ,\n",
       "        8347.1643  , 22331.5668  ,  4137.5227  , 41919.097   ,\n",
       "        4889.0368  , 10806.839   , 11299.343   , 15019.76005 ,\n",
       "       17043.3414  , 24227.33724 ,  2710.82855 , 37133.8982  ,\n",
       "       12981.3457  , 12644.589   ,  5028.1466  , 22192.43711 ,\n",
       "        1967.0227  , 15555.18875 ,  3268.84665 ,  8891.1395  ,\n",
       "        7256.7231  , 11289.10925 ,  1969.614   ,  6185.3208  ,\n",
       "        4402.233   ,  9722.7695  , 27808.7251  ,  6986.697   ,\n",
       "        8596.8278  , 11073.176   ,  6781.3542  ,  5989.52365 ,\n",
       "       46200.9851  ,  8733.22925 , 27000.98473 , 30063.58055 ,\n",
       "       33307.5508  , 62592.87309 , 38792.6856  , 14358.36437 ,\n",
       "       12523.6048  ,  2331.519   ,  4934.705   ,  2473.3341  ,\n",
       "       15612.19335 , 22493.65964 , 12638.195   , 21195.818   ,\n",
       "       17361.7661  , 12829.4551  ,  3490.5491  , 38126.2465  ,\n",
       "        1832.094   ,  4661.28635 ,  2902.9065  , 10928.849   ,\n",
       "       14590.63205 ,  3597.596   ,  8520.026   , 33900.653   ,\n",
       "        9620.3307  , 30284.64294 , 24513.09126 ,  2597.779   ,\n",
       "        4747.0529  , 11552.904   ,  4435.0942  , 21082.16    ,\n",
       "        4149.736   , 40419.0191  , 10461.9794  ,  3385.39915 ,\n",
       "        2203.73595 ,  6186.127   , 19594.80965 ,  4889.9995  ,\n",
       "        6548.19505 , 18767.7377  , 10965.446   , 11163.568   ,\n",
       "       20773.62775 , 12044.342   ,  6940.90985 , 22218.1149  ,\n",
       "        9715.841   ,  2855.43755 , 10197.7722  ,  6666.243   ,\n",
       "       11840.77505 ,  4296.2712  , 11286.5387  , 24671.66334 ,\n",
       "        3260.199   ,  2639.0429  ,  3393.35635 ,  8964.06055 ,\n",
       "        8442.667   ,  6710.1919  , 12797.20962 , 21344.8467  ,\n",
       "        5693.4305  , 17560.37975 ,  8871.1517  , 15161.5344  ,\n",
       "        7526.70645 , 10982.5013  ,  4753.6368  , 39597.4072  ,\n",
       "       11931.12525 , 18157.876   ,  1664.9996  ,  1631.6683  ,\n",
       "       23244.7902  , 18838.70366 ,  5972.378   , 38415.474   ,\n",
       "        3484.331   ,  5979.731   , 15006.57945 ,  2719.27975 ,\n",
       "       11305.93455 ,  9182.17    ,  1720.3537  ,  4544.2348  ,\n",
       "        6555.07035 ,  7445.918   ,  9724.53    ,  7935.29115 ,\n",
       "       16297.846   ,  1633.0444  ,  3021.80915 ,  1137.4697  ,\n",
       "        7153.5539  ,  8569.8618  , 40720.55105 ,  3171.6149  ,\n",
       "        3577.999   ,  1631.8212  ,  7348.142   , 16138.76205 ,\n",
       "       12730.9996  , 11830.6072  , 21984.47061 ,  6123.5688  ,\n",
       "       18972.495   , 16577.7795  ,  3044.2133  ,  6334.34355 ,\n",
       "       23065.4207  ,  3161.454   , 11455.28    ,  6610.1097  ,\n",
       "       42124.5153  , 24873.3849  ,  1769.53165 , 14449.8544  ,\n",
       "        7196.867   ,  1984.4533  , 14210.53595 , 11856.4115  ,\n",
       "       19515.5416  ,  5385.3379  , 10977.2063  ,  4320.41085 ,\n",
       "        8444.474   , 38709.176   ,  9225.2564  ,  1241.565   ,\n",
       "        8522.003   , 12323.936   ,  7789.635   ,  1875.344   ,\n",
       "       22144.032   ,  1163.4627  ,  2850.68375 ,  4992.3764  ,\n",
       "       12268.63225 , 25309.489   ,  8413.46305 , 11944.59435 ,\n",
       "        1625.43375 , 43896.3763  ,  5630.45785 , 33732.6867  ,\n",
       "        9880.068   ,  3947.4131  , 36307.7983  ,  2026.9741  ,\n",
       "       36219.40545 , 48549.17835 , 19798.05455 ,  4827.90495 ,\n",
       "        2254.7967  ,  4504.6624  ,  8240.5896  ,  4846.92015 ,\n",
       "        1146.7966  ,  3180.5101  ,  8027.968   ,  6496.886   ,\n",
       "       24393.6224  ,  1705.6245  , 37829.7242  , 12269.68865 ,\n",
       "       21978.6769  ,  5327.40025 , 12574.049   , 45863.205   ,\n",
       "       43813.8661  , 17178.6824  ,  8606.2174  ,  2257.47525 ,\n",
       "        2801.2588  ,  5584.3057  ,  4349.462   , 26018.95052 ,\n",
       "       24915.22085 , 13429.0354  ,  1842.519   ,  9140.951   ,\n",
       "        2362.22905 , 36837.467   ,  9863.4718  ,  1728.897   ,\n",
       "        8556.907   , 11015.1747  ,  3591.48    ,  5699.8375  ,\n",
       "        4646.759   ,  6593.5083  , 16455.70785 ,  2438.0552  ,\n",
       "       47055.5321  , 37465.34375 ,  9800.8882  ,  7418.522   ,\n",
       "       11987.1682  ,  9301.89355 ,  1261.442   , 44202.6536  ,\n",
       "        5031.26955 , 42983.4585  , 12363.547   , 11566.30055 ,\n",
       "       19361.9988  , 12094.478   , 13112.6048  , 23082.95533 ,\n",
       "        2699.56835 ,  6933.24225 , 12646.207   , 12629.8967  ,\n",
       "        4719.73655 ,  6571.544   ,  5373.36425 ,  7265.7025  ,\n",
       "       18804.7524  , 11884.04858 ,  6414.178   ,  4350.5144  ,\n",
       "       13047.33235 , 11946.6259  , 13204.28565 ,  9282.4806  ,\n",
       "        1242.816   ,  4673.3922  , 13224.05705 ,  6406.4107  ,\n",
       "        2136.88225 ,  2304.0022  , 33475.81715 , 10594.50155 ,\n",
       "        3935.1799  , 13974.45555 , 10381.4787  , 27117.99378 ,\n",
       "        4718.20355 , 32548.3405  ,  4719.52405 , 10959.6947  ,\n",
       "        2416.955   , 12890.05765 ,  4005.4225  ,  3201.24515 ,\n",
       "       14256.1928  , 15170.069   ,  2803.69785 , 24059.68019 ,\n",
       "       46599.1084  ,  1877.9294  , 11411.685   ,  3693.428   ,\n",
       "        3167.45585 , 23306.547   ,  2201.0971  , 13770.0979  ,\n",
       "        5012.471   ,  7045.499   , 46130.5265  ,  2730.10785 ,\n",
       "       21797.0004  , 29330.98315 ,  1646.4297  , 30184.9367  ,\n",
       "       45702.02235 , 43578.9394  , 20781.48892 ,  7421.19455 ,\n",
       "        7448.40395 ,  8269.044   ,  4134.08245 , 26236.57997 ,\n",
       "       13143.33665 , 20296.86345 , 13462.52    , 39836.519   ,\n",
       "       36197.699   ,  9869.8102  ,  5438.7491  ,  2250.8352  ,\n",
       "        9850.432   ,  2207.69745 ,  3443.064   , 10231.4999  ,\n",
       "        4686.3887  ,  8534.6718  ,  7633.7206  , 14418.2804  ,\n",
       "        3378.91    ,  2211.13075 , 17085.2676  , 10704.47    ,\n",
       "        5325.651   ,  1824.2854  , 20630.28351 ,  5615.369   ,\n",
       "       19521.9682  ,  2302.3     ,  9391.346   , 18223.4512  ,\n",
       "        3056.3881  ,  4667.60765 , 24603.04837 , 42760.5022  ,\n",
       "        6117.4945  , 23563.01618 , 36580.28216 ,  6600.20595 ,\n",
       "       42211.1382  ,  2483.736   ,  5855.9025  ,  9630.397   ,\n",
       "       13415.0381  ,  5124.1887  , 10959.33    ,  2897.3235  ,\n",
       "       10601.412   ,  6313.759   , 12032.326   , 10577.087   ,\n",
       "        8827.2099  , 14474.675   ,  5472.449   ,  7337.748   ,\n",
       "        9625.92    , 14001.1338  ,  4564.19145 ,  6770.1925  ,\n",
       "        3554.203   , 28868.6639  , 22462.04375 , 11938.25595 ,\n",
       "       41034.2214  , 16796.41194 , 21348.706   , 18259.216   ,\n",
       "        2395.17155 , 12949.1554  , 12142.5786  ,  7954.517   ,\n",
       "        1256.299   ,  2150.469   ,  7050.642   ,  1615.7667  ,\n",
       "        2632.992   ,  5969.723   ,  1702.4553  , 10450.552   ,\n",
       "        5080.096   ,  9957.7216  ,  2045.68525 ,  8068.185   ,\n",
       "        6402.29135 , 20745.9891  ,  4151.0287  , 14313.8463  ,\n",
       "       10355.641   ,  5976.8311  , 15359.1045  , 18328.2381  ,\n",
       "        4237.12655 ,  2102.2647  , 12233.828   ,  3537.703   ,\n",
       "       12096.6512  ,  6238.298   , 46889.2612  ,  2103.08    ,\n",
       "       19442.3535  ,  1532.4697  , 37742.5757  ,  3172.018   ,\n",
       "       17748.5062  ,  9264.797   ,  8125.7845  ,  6600.361   ,\n",
       "       42111.6647  ,  6082.405   ,  8280.6227  ,  5484.4673  ,\n",
       "        3238.4357  ,  8211.1002  , 36021.0112  , 10825.2537  ,\n",
       "       11743.9341  ,  8965.79575 , 11735.87905 ,  6250.435   ,\n",
       "        7740.337   , 13457.9608  ,  1986.9334  ,  7281.5056  ,\n",
       "        4433.9159  ,  3987.926   ,  8930.93455 ,  2927.0647  ,\n",
       "        2200.83085 ,  5312.16985 , 39774.2763  ,  4185.0979  ,\n",
       "        2055.3249  , 10141.1362  ,  5266.3656  ,  7077.1894  ,\n",
       "       39125.33225 ,  3659.346   ,  8988.15875 ,  8017.06115 ,\n",
       "       20277.80751 ,  3956.07145 , 13352.0998  ,  8968.33    ,\n",
       "       58571.07448 ,  5594.8455  ,  9283.562   , 35160.13457 ,\n",
       "        2117.33885 , 19719.6947  , 11070.535   , 13607.36875 ,\n",
       "       13470.8044  , 10702.6424  ,  6373.55735 ,  3594.17085 ,\n",
       "       19107.7796  ,  4751.07    ,  2104.1134  ,  8627.5411  ,\n",
       "        8283.6807  , 10072.05505 , 17128.42608 , 12224.35085 ,\n",
       "        7160.3303  , 13451.122   ,  5377.4578  ,  2020.5523  ,\n",
       "       23967.38305 , 13937.6665  ,  7650.77375 ,  4441.21315 ,\n",
       "       22412.6485  ,  9447.25035 ,  3757.8448  ,  2731.9122  ,\n",
       "       16657.71745 , 28287.89766 ,  4561.1885  , 27724.28875 ,\n",
       "        1837.237   ,  7742.1098  , 25517.11363 , 44400.4064  ,\n",
       "        9861.025   ,  6393.60345 , 14901.5167  ,  1725.5523  ,\n",
       "        9872.701   , 28340.18885 , 46113.511   , 36189.1017  ,\n",
       "       17081.08    ,  4518.82625 , 42303.69215 , 10796.35025 ,\n",
       "       14043.4767  , 25678.77845 , 10594.2257  , 11576.13    ,\n",
       "       11842.442   ,  2404.7338  ,  1526.312   , 37607.5277  ,\n",
       "        2899.48935 ,  2221.56445 , 11187.6567  ,  8457.818   ,\n",
       "        2217.46915 , 25382.297   ,  7162.0122  ,  5488.262   ,\n",
       "       48673.5588  , 14382.70905 , 23807.2406  , 25992.82104 ,\n",
       "        9855.1314  ,  3847.674   ,  3392.3652  , 39725.51805 ,\n",
       "        1622.1885  , 10436.096   , 13919.8229  ,  4618.0799  ,\n",
       "        1632.56445 , 12479.70895 , 11538.421   ,  9563.029   ,\n",
       "       10085.846   , 12592.5345  , 10579.711   ,  4357.04365 ,\n",
       "        7160.094   ,  9991.03765 ,  1137.011   , 41676.0811  ,\n",
       "        6571.02435 , 27322.73386 , 10422.91665 ,  9414.92    ,\n",
       "       41661.602   , 19214.70553 , 10797.3362  , 11737.84884 ,\n",
       "       27941.28758 , 25081.76784 , 16232.847   ,  3981.9768  ,\n",
       "       20984.0936  , 43753.33705 , 11253.421   , 23045.56616 ,\n",
       "       14451.83515 ,  5458.04645 ,  2709.24395 ,  3227.1211  ,\n",
       "        3070.8087  , 40003.33225 ,  1744.465   , 12404.8791  ,\n",
       "        1674.6323  , 11729.6795  ,  8428.0693  ,  8342.90875 ,\n",
       "        3077.0955  , 42856.838   ,  1515.3449  ,  5272.1758  ,\n",
       "        5415.6612  ,  7623.518   ,  9583.8933  ,  8277.523   ,\n",
       "        3292.52985 ,  8515.7587  ,  5966.8874  ,  8026.6666  ,\n",
       "       12622.1795  ,  9048.0273  ,  8410.04685 ,  2690.1138  ,\n",
       "        1621.8827  ,  5148.5526  , 34303.1672  , 20149.3229  ,\n",
       "       40103.89    ,  7441.053   ,  7046.7222  ,  4906.40965 ,\n",
       "        8978.1851  , 11363.2832  ,  2154.361   ,  2566.4707  ,\n",
       "       10564.8845  , 19539.243   ,  5267.81815 ])"
      ]
     },
     "execution_count": 50,
     "metadata": {},
     "output_type": "execute_result"
    }
   ],
   "source": [
    "draw_perm_reps_func_diff(insurance,no_insurance,np.std,size=10000)"
   ]
  },
  {
   "cell_type": "code",
   "execution_count": 12,
   "metadata": {},
   "outputs": [
    {
     "name": "stderr",
     "output_type": "stream",
     "text": [
      "C:\\Users\\WorkStation\\Anaconda3\\lib\\site-packages\\ipykernel_launcher.py:1: MatplotlibDeprecationWarning: \n",
      "The 'normed' kwarg was deprecated in Matplotlib 2.1 and will be removed in 3.1. Use 'density' instead.\n",
      "  \"\"\"Entry point for launching an IPython kernel.\n"
     ]
    },
    {
     "data": {
      "image/png": "[encoded data removed]",
      "text/plain": [
       "<Figure size 432x288 with 1 Axes>"
      ]
     },
     "metadata": {
      "needs_background": "light"
     },
     "output_type": "display_data"
    }
   ],
   "source": [
    "_ = plt.hist(charges_stddev_diff_perm_replicates,bins = 20,normed = False)\n",
    "_ = plt.axvline(conf_int_stddev_diff[0],color='red')\n",
    "_ = plt.axvline(conf_int_stddev_diff[1],color='red')"
   ]
  },
  {
   "cell_type": "code",
   "execution_count": 42,
   "metadata": {},
   "outputs": [
    {
     "ename": "NameError",
     "evalue": "name 'perm_sample_1' is not defined",
     "output_type": "error",
     "traceback": [
      "\u001b[1;31m---------------------------------------------------------------------------\u001b[0m",
      "\u001b[1;31mNameError\u001b[0m                                 Traceback (most recent call last)",
      "\u001b[1;32m<ipython-input-42-b6d0de005a93>\u001b[0m in \u001b[0;36m<module>\u001b[1;34m\u001b[0m\n\u001b[1;32m----> 1\u001b[1;33m stats.ttest_ind_from_stats(mean1=np.mean(perm_sample_1), std1=np.std(perm_sample_1), nobs1=len(perm_sample_1),\n\u001b[0m\u001b[0;32m      2\u001b[0m                            mean2=np.mean(perm_sample_2), std2=np.std(perm_sample_2), nobs2=len(perm_sample_2))\n",
      "\u001b[1;31mNameError\u001b[0m: name 'perm_sample_1' is not defined"
     ]
    }
   ],
   "source": [
    "stats.ttest_ind_from_stats(mean1=np.mean(perm_sample_1), std1=np.std(perm_sample_1), nobs1=len(perm_sample_1),\n",
    "                           mean2=np.mean(perm_sample_2), std2=np.std(perm_sample_2), nobs2=len(perm_sample_2))"
   ]
  },
  {
   "cell_type": "markdown",
   "metadata": {},
   "source": [
    "## Confidence interval and p-value"
   ]
  },
  {
   "cell_type": "markdown",
   "metadata": {},
   "source": [
    "The confidence interval above is often a useful quantity to estimate. If we wish to limit our expected probability of making a Type I error (where we wrongly reject the null hypothesis, and it is, instead, true) to $\\alpha$, the associated confidence interval is our estimate of the interval within which we expect the true population value to be found $100\\times(1 - \\alpha)$% of the time we do this test. In the above we performed bootstrap replicates to estimate the interval and reject the null hypothesis if this interval did not contain zero. You will sometimes see such an interval reported in the output of statistical functions.\n",
    "\n",
    "The partner of the confidence interval is the p-value. The p-value and the confidence interval are linked through our choice of $\\alpha$. The p-value tells us how likely it is, under the null hypothesis, to get an outcome at least as extreme as what was observed. If this fails to reach the level of our _pre-specified_ $\\alpha$, we decide the null hypothesis is sufficiently unlikely to be true and thus reject it. To calculate this p-value via the bootstrap, we have to put ourselves in a position where we are simulating the null hypothesis being true and then calculate the fraction of times we observe a result at least as extreme as that actually observed.\n",
    "\n",
    "Remember how, previously, you used the _t_-test to calculate the p-value for the observed difference between the means of insured and non-insured medical cases. We're now going to repeat this, this time using the bootstrap approach.\n",
    "\n",
    "__Q:__ Perform a bootstrapped hypothesis test at the 5% significance level ($\\alpha = 0.05$) to calculate the p-value of the observed difference between insurance and non-insurance charges, state your null and alternative hypotheses and whether you retain or reject the null hypothesis for the given significance level."
   ]
  },
  {
   "cell_type": "markdown",
   "metadata": {},
   "source": [
    "__A:__"
   ]
  },
  {
   "cell_type": "code",
   "execution_count": null,
   "metadata": {},
   "outputs": [],
   "source": []
  },
  {
   "cell_type": "code",
   "execution_count": null,
   "metadata": {},
   "outputs": [],
   "source": []
  },
  {
   "cell_type": "code",
   "execution_count": null,
   "metadata": {},
   "outputs": [],
   "source": []
  },
  {
   "cell_type": "code",
   "execution_count": null,
   "metadata": {},
   "outputs": [],
   "source": []
  },
  {
   "cell_type": "code",
   "execution_count": null,
   "metadata": {},
   "outputs": [],
   "source": []
  },
  {
   "cell_type": "code",
   "execution_count": null,
   "metadata": {},
   "outputs": [],
   "source": []
  },
  {
   "cell_type": "markdown",
   "metadata": {},
   "source": [
    "__Q:__ To put the above result in perspective, plot the histogram of your bootstrapped differences along with lines marking the locations of the observed difference. (Why would we plot more than one line, given that we only have one observed difference?)"
   ]
  },
  {
   "cell_type": "markdown",
   "metadata": {},
   "source": [
    "__A:__"
   ]
  },
  {
   "cell_type": "code",
   "execution_count": null,
   "metadata": {},
   "outputs": [],
   "source": []
  },
  {
   "cell_type": "markdown",
   "metadata": {},
   "source": [
    "__Q:__ Compare your p-value above with that obtained using the _t_-test function in the previous assignment. Do you think you would want to try to perform enough bootstrap replicates to observe a random difference as large as that we did observe?"
   ]
  },
  {
   "cell_type": "markdown",
   "metadata": {},
   "source": [
    "__A:__"
   ]
  },
  {
   "cell_type": "markdown",
   "metadata": {},
   "source": [
    "__Q:__ Consider the two variants of the _t_-test we performed in the previous assignment. Which one would you use now?"
   ]
  },
  {
   "cell_type": "markdown",
   "metadata": {},
   "source": [
    "__A:__"
   ]
  },
  {
   "cell_type": "markdown",
   "metadata": {},
   "source": [
    "__Q:__ If, instead of being asked whether the means of two groups were different, you were working with an ad-recommender team who wanted to release a new recommendation algorithm, and you were looking at click-through rate both for the current algorithm (call it A) and from trials of their new algorithm (call it B), would you perform a two-sided test as above? What would be your null and alternative hypotheses and what would be the real-world consequence of rejecting the null hypothesis?"
   ]
  },
  {
   "cell_type": "markdown",
   "metadata": {},
   "source": [
    "__A:__"
   ]
  },
  {
   "cell_type": "markdown",
   "metadata": {},
   "source": [
    "# Learning outcomes\n",
    "\n",
    "You've previously applied frequentist methods to calculate confidence intervals, p-values, and perform hypothesis tests. Frequentist methods use theoretical results to calculate what we expect would happen if experiments were to be run again and again and again. Now you've seen how you can do the same things using the bootstrap approach, which does not rely on such theory, and attendant assumptions, but instead literally does run experiments again and again and again.\n",
    "\n",
    "In these exercises, you have:\n",
    "* calculated the same confidence interval lower limit as you did previously\n",
    "* tested the assumption that the variances of the two groups (insured vs. non-insured) were equal - something a bit harder to do using the frequentist method because of the nature of the sampling distribution for variance\n",
    "* calculated the p-value for the difference between the means of the two groups and compared with the result obtained using the previous frequentist approach\n",
    "\n",
    "You are now well equipped to apply the bootstrap approach to a wide variety of problems. Just think about what conditions you wish to recreate in your simulated reruns."
   ]
  }
 ],
 "metadata": {
  "kernelspec": {
   "display_name": "Python 3",
   "language": "python",
   "name": "python3"
  },
  "language_info": {
   "codemirror_mode": {
    "name": "ipython",
    "version": 3
   },
   "file_extension": ".py",
   "mimetype": "text/x-python",
   "name": "python",
   "nbconvert_exporter": "python",
   "pygments_lexer": "ipython3",
   "version": "3.7.4"
  }
 },
 "nbformat": 4,
 "nbformat_minor": 2
}

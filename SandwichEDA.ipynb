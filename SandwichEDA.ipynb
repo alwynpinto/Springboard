{
 "cells": [
  {
   "cell_type": "code",
   "execution_count": 1,
   "metadata": {},
   "outputs": [],
   "source": [
    "import numpy as np\n",
    "import pandas as pd\n",
    "import datetime as dt\n",
    "import calendar\n",
    "import csv\n",
    "import matplotlib.pyplot as plt\n",
    "import scipy.stats as stats\n",
    "from IPython import display\n",
    "from ipywidgets import interact,widgets\n",
    "import re\n",
    "import csv"
   ]
  },
  {
   "cell_type": "code",
   "execution_count": 2,
   "metadata": {},
   "outputs": [
    {
     "name": "stderr",
     "output_type": "stream",
     "text": [
      "C:\\Users\\WorkStation\\Anaconda3\\lib\\site-packages\\IPython\\core\\interactiveshell.py:3063: DtypeWarning: Columns (25) have mixed types.Specify dtype option on import or set low_memory=False.\n",
      "  interactivity=interactivity, compiler=compiler, result=result)\n"
     ]
    }
   ],
   "source": [
    "df = pd.read_csv(r\"C:\\Users\\WorkStation\\PythonDocs\\Sandwich Analytics\\dataclean1.csv\")"
   ]
  },
  {
   "cell_type": "code",
   "execution_count": 3,
   "metadata": {},
   "outputs": [
    {
     "data": {
      "text/html": [
       "<div>\n",
       "<style scoped>\n",
       "    .dataframe tbody tr th:only-of-type {\n",
       "        vertical-align: middle;\n",
       "    }\n",
       "\n",
       "    .dataframe tbody tr th {\n",
       "        vertical-align: top;\n",
       "    }\n",
       "\n",
       "    .dataframe thead th {\n",
       "        text-align: right;\n",
       "    }\n",
       "</style>\n",
       "<table border=\"1\" class=\"dataframe\">\n",
       "  <thead>\n",
       "    <tr style=\"text-align: right;\">\n",
       "      <th></th>\n",
       "      <th>INV_NUMBER</th>\n",
       "      <th>Store_Num</th>\n",
       "      <th>Description</th>\n",
       "      <th>Price</th>\n",
       "      <th>Sold</th>\n",
       "      <th>Del</th>\n",
       "      <th>Sales</th>\n",
       "      <th>Tot_Sls</th>\n",
       "      <th>Unit_Cost</th>\n",
       "      <th>Cost</th>\n",
       "      <th>...</th>\n",
       "      <th>Day</th>\n",
       "      <th>Weekday</th>\n",
       "      <th>Store_Name</th>\n",
       "      <th>Store_City</th>\n",
       "      <th>Store_County</th>\n",
       "      <th>Store_State</th>\n",
       "      <th>Store_Location</th>\n",
       "      <th>Store_Drive_Through</th>\n",
       "      <th>Store_Near_School</th>\n",
       "      <th>Annual_Rent_Estimate</th>\n",
       "    </tr>\n",
       "  </thead>\n",
       "  <tbody>\n",
       "    <tr>\n",
       "      <th>0</th>\n",
       "      <td>14822</td>\n",
       "      <td>2</td>\n",
       "      <td>REGULAR FLATBREAD SPICY IT</td>\n",
       "      <td>5.75</td>\n",
       "      <td>1</td>\n",
       "      <td>0</td>\n",
       "      <td>7.00</td>\n",
       "      <td>0.0004</td>\n",
       "      <td>0.0000</td>\n",
       "      <td>0.00</td>\n",
       "      <td>...</td>\n",
       "      <td>1</td>\n",
       "      <td>Sunday</td>\n",
       "      <td>Power City FreeStand</td>\n",
       "      <td>Power City</td>\n",
       "      <td>Power County</td>\n",
       "      <td>North State</td>\n",
       "      <td>Free Standing</td>\n",
       "      <td>True</td>\n",
       "      <td>True</td>\n",
       "      <td>63000</td>\n",
       "    </tr>\n",
       "    <tr>\n",
       "      <th>1</th>\n",
       "      <td>14863</td>\n",
       "      <td>2</td>\n",
       "      <td>SUNRISE MELT REGULAR FLATBREAD</td>\n",
       "      <td>6.25</td>\n",
       "      <td>1</td>\n",
       "      <td>0</td>\n",
       "      <td>6.00</td>\n",
       "      <td>0.0004</td>\n",
       "      <td>1.7589</td>\n",
       "      <td>1.76</td>\n",
       "      <td>...</td>\n",
       "      <td>1</td>\n",
       "      <td>Sunday</td>\n",
       "      <td>Power City FreeStand</td>\n",
       "      <td>Power City</td>\n",
       "      <td>Power County</td>\n",
       "      <td>North State</td>\n",
       "      <td>Free Standing</td>\n",
       "      <td>True</td>\n",
       "      <td>True</td>\n",
       "      <td>63000</td>\n",
       "    </tr>\n",
       "    <tr>\n",
       "      <th>2</th>\n",
       "      <td>13701</td>\n",
       "      <td>2</td>\n",
       "      <td>REGULAR BLT</td>\n",
       "      <td>5.00</td>\n",
       "      <td>59</td>\n",
       "      <td>0</td>\n",
       "      <td>295.00</td>\n",
       "      <td>0.0180</td>\n",
       "      <td>0.9700</td>\n",
       "      <td>57.23</td>\n",
       "      <td>...</td>\n",
       "      <td>1</td>\n",
       "      <td>Sunday</td>\n",
       "      <td>Power City FreeStand</td>\n",
       "      <td>Power City</td>\n",
       "      <td>Power County</td>\n",
       "      <td>North State</td>\n",
       "      <td>Free Standing</td>\n",
       "      <td>True</td>\n",
       "      <td>True</td>\n",
       "      <td>63000</td>\n",
       "    </tr>\n",
       "    <tr>\n",
       "      <th>3</th>\n",
       "      <td>40000</td>\n",
       "      <td>2</td>\n",
       "      <td>MINI SAVORY TURKEY BT &amp; HAM</td>\n",
       "      <td>4.75</td>\n",
       "      <td>25</td>\n",
       "      <td>0</td>\n",
       "      <td>125.00</td>\n",
       "      <td>0.0076</td>\n",
       "      <td>1.0636</td>\n",
       "      <td>26.59</td>\n",
       "      <td>...</td>\n",
       "      <td>1</td>\n",
       "      <td>Sunday</td>\n",
       "      <td>Power City FreeStand</td>\n",
       "      <td>Power City</td>\n",
       "      <td>Power County</td>\n",
       "      <td>North State</td>\n",
       "      <td>Free Standing</td>\n",
       "      <td>True</td>\n",
       "      <td>True</td>\n",
       "      <td>63000</td>\n",
       "    </tr>\n",
       "    <tr>\n",
       "      <th>4</th>\n",
       "      <td>14852</td>\n",
       "      <td>2</td>\n",
       "      <td>REGULAR FLATBREAD STEAK CHEESE</td>\n",
       "      <td>8.25</td>\n",
       "      <td>3</td>\n",
       "      <td>0</td>\n",
       "      <td>24.00</td>\n",
       "      <td>0.0015</td>\n",
       "      <td>0.0000</td>\n",
       "      <td>0.00</td>\n",
       "      <td>...</td>\n",
       "      <td>1</td>\n",
       "      <td>Sunday</td>\n",
       "      <td>Power City FreeStand</td>\n",
       "      <td>Power City</td>\n",
       "      <td>Power County</td>\n",
       "      <td>North State</td>\n",
       "      <td>Free Standing</td>\n",
       "      <td>True</td>\n",
       "      <td>True</td>\n",
       "      <td>63000</td>\n",
       "    </tr>\n",
       "    <tr>\n",
       "      <th>...</th>\n",
       "      <td>...</td>\n",
       "      <td>...</td>\n",
       "      <td>...</td>\n",
       "      <td>...</td>\n",
       "      <td>...</td>\n",
       "      <td>...</td>\n",
       "      <td>...</td>\n",
       "      <td>...</td>\n",
       "      <td>...</td>\n",
       "      <td>...</td>\n",
       "      <td>...</td>\n",
       "      <td>...</td>\n",
       "      <td>...</td>\n",
       "      <td>...</td>\n",
       "      <td>...</td>\n",
       "      <td>...</td>\n",
       "      <td>...</td>\n",
       "      <td>...</td>\n",
       "      <td>...</td>\n",
       "      <td>...</td>\n",
       "      <td>...</td>\n",
       "    </tr>\n",
       "    <tr>\n",
       "      <th>79454</th>\n",
       "      <td>35090</td>\n",
       "      <td>24</td>\n",
       "      <td>APPLE SLICES</td>\n",
       "      <td>1.10</td>\n",
       "      <td>1</td>\n",
       "      <td>0</td>\n",
       "      <td>0.99</td>\n",
       "      <td>0.0002</td>\n",
       "      <td>0.0000</td>\n",
       "      <td>0.00</td>\n",
       "      <td>...</td>\n",
       "      <td>24</td>\n",
       "      <td>Sunday</td>\n",
       "      <td>University Town BigBox</td>\n",
       "      <td>University Town</td>\n",
       "      <td>River County</td>\n",
       "      <td>North State</td>\n",
       "      <td>Big Box</td>\n",
       "      <td>True</td>\n",
       "      <td>True</td>\n",
       "      <td>15000</td>\n",
       "    </tr>\n",
       "    <tr>\n",
       "      <th>79455</th>\n",
       "      <td>7201</td>\n",
       "      <td>24</td>\n",
       "      <td>ADD AVOCADO REGULAR</td>\n",
       "      <td>1.50</td>\n",
       "      <td>7</td>\n",
       "      <td>0</td>\n",
       "      <td>10.35</td>\n",
       "      <td>0.0017</td>\n",
       "      <td>0.0000</td>\n",
       "      <td>0.00</td>\n",
       "      <td>...</td>\n",
       "      <td>24</td>\n",
       "      <td>Sunday</td>\n",
       "      <td>University Town BigBox</td>\n",
       "      <td>University Town</td>\n",
       "      <td>River County</td>\n",
       "      <td>North State</td>\n",
       "      <td>Big Box</td>\n",
       "      <td>True</td>\n",
       "      <td>True</td>\n",
       "      <td>15000</td>\n",
       "    </tr>\n",
       "    <tr>\n",
       "      <th>79456</th>\n",
       "      <td>13831</td>\n",
       "      <td>24</td>\n",
       "      <td>REGULAR VEGGIE BURGER</td>\n",
       "      <td>6.75</td>\n",
       "      <td>11</td>\n",
       "      <td>0</td>\n",
       "      <td>72.90</td>\n",
       "      <td>0.0120</td>\n",
       "      <td>1.4500</td>\n",
       "      <td>15.95</td>\n",
       "      <td>...</td>\n",
       "      <td>24</td>\n",
       "      <td>Sunday</td>\n",
       "      <td>University Town BigBox</td>\n",
       "      <td>University Town</td>\n",
       "      <td>River County</td>\n",
       "      <td>North State</td>\n",
       "      <td>Big Box</td>\n",
       "      <td>True</td>\n",
       "      <td>True</td>\n",
       "      <td>15000</td>\n",
       "    </tr>\n",
       "    <tr>\n",
       "      <th>79457</th>\n",
       "      <td>35080</td>\n",
       "      <td>24</td>\n",
       "      <td>DIPPING CUP</td>\n",
       "      <td>0.50</td>\n",
       "      <td>20</td>\n",
       "      <td>0</td>\n",
       "      <td>7.85</td>\n",
       "      <td>0.0013</td>\n",
       "      <td>0.0000</td>\n",
       "      <td>0.00</td>\n",
       "      <td>...</td>\n",
       "      <td>24</td>\n",
       "      <td>Sunday</td>\n",
       "      <td>University Town BigBox</td>\n",
       "      <td>University Town</td>\n",
       "      <td>River County</td>\n",
       "      <td>North State</td>\n",
       "      <td>Big Box</td>\n",
       "      <td>True</td>\n",
       "      <td>True</td>\n",
       "      <td>15000</td>\n",
       "    </tr>\n",
       "    <tr>\n",
       "      <th>79458</th>\n",
       "      <td>13822</td>\n",
       "      <td>24</td>\n",
       "      <td>REGULAR CHICKEN TERIYAKI DOUBLE</td>\n",
       "      <td>10.75</td>\n",
       "      <td>3</td>\n",
       "      <td>0</td>\n",
       "      <td>32.25</td>\n",
       "      <td>0.0053</td>\n",
       "      <td>2.4600</td>\n",
       "      <td>7.38</td>\n",
       "      <td>...</td>\n",
       "      <td>24</td>\n",
       "      <td>Sunday</td>\n",
       "      <td>University Town BigBox</td>\n",
       "      <td>University Town</td>\n",
       "      <td>River County</td>\n",
       "      <td>North State</td>\n",
       "      <td>Big Box</td>\n",
       "      <td>True</td>\n",
       "      <td>True</td>\n",
       "      <td>15000</td>\n",
       "    </tr>\n",
       "  </tbody>\n",
       "</table>\n",
       "<p>79459 rows × 26 columns</p>\n",
       "</div>"
      ],
      "text/plain": [
       "       INV_NUMBER  Store_Num                      Description  Price  Sold  \\\n",
       "0           14822          2       REGULAR FLATBREAD SPICY IT   5.75     1   \n",
       "1           14863          2   SUNRISE MELT REGULAR FLATBREAD   6.25     1   \n",
       "2           13701          2                      REGULAR BLT   5.00    59   \n",
       "3           40000          2      MINI SAVORY TURKEY BT & HAM   4.75    25   \n",
       "4           14852          2   REGULAR FLATBREAD STEAK CHEESE   8.25     3   \n",
       "...           ...        ...                              ...    ...   ...   \n",
       "79454       35090         24                     APPLE SLICES   1.10     1   \n",
       "79455        7201         24              ADD AVOCADO REGULAR   1.50     7   \n",
       "79456       13831         24            REGULAR VEGGIE BURGER   6.75    11   \n",
       "79457       35080         24                      DIPPING CUP   0.50    20   \n",
       "79458       13822         24  REGULAR CHICKEN TERIYAKI DOUBLE  10.75     3   \n",
       "\n",
       "       Del   Sales  Tot_Sls  Unit_Cost   Cost  ...  Day  Weekday  \\\n",
       "0        0    7.00   0.0004     0.0000   0.00  ...    1   Sunday   \n",
       "1        0    6.00   0.0004     1.7589   1.76  ...    1   Sunday   \n",
       "2        0  295.00   0.0180     0.9700  57.23  ...    1   Sunday   \n",
       "3        0  125.00   0.0076     1.0636  26.59  ...    1   Sunday   \n",
       "4        0   24.00   0.0015     0.0000   0.00  ...    1   Sunday   \n",
       "...    ...     ...      ...        ...    ...  ...  ...      ...   \n",
       "79454    0    0.99   0.0002     0.0000   0.00  ...   24   Sunday   \n",
       "79455    0   10.35   0.0017     0.0000   0.00  ...   24   Sunday   \n",
       "79456    0   72.90   0.0120     1.4500  15.95  ...   24   Sunday   \n",
       "79457    0    7.85   0.0013     0.0000   0.00  ...   24   Sunday   \n",
       "79458    0   32.25   0.0053     2.4600   7.38  ...   24   Sunday   \n",
       "\n",
       "                   Store_Name       Store_City  Store_County  Store_State  \\\n",
       "0        Power City FreeStand       Power City  Power County  North State   \n",
       "1        Power City FreeStand       Power City  Power County  North State   \n",
       "2        Power City FreeStand       Power City  Power County  North State   \n",
       "3        Power City FreeStand       Power City  Power County  North State   \n",
       "4        Power City FreeStand       Power City  Power County  North State   \n",
       "...                       ...              ...           ...          ...   \n",
       "79454  University Town BigBox  University Town  River County  North State   \n",
       "79455  University Town BigBox  University Town  River County  North State   \n",
       "79456  University Town BigBox  University Town  River County  North State   \n",
       "79457  University Town BigBox  University Town  River County  North State   \n",
       "79458  University Town BigBox  University Town  River County  North State   \n",
       "\n",
       "       Store_Location Store_Drive_Through Store_Near_School  \\\n",
       "0       Free Standing                True              True   \n",
       "1       Free Standing                True              True   \n",
       "2       Free Standing                True              True   \n",
       "3       Free Standing                True              True   \n",
       "4       Free Standing                True              True   \n",
       "...               ...                 ...               ...   \n",
       "79454         Big Box                True              True   \n",
       "79455         Big Box                True              True   \n",
       "79456         Big Box                True              True   \n",
       "79457         Big Box                True              True   \n",
       "79458         Big Box                True              True   \n",
       "\n",
       "      Annual_Rent_Estimate  \n",
       "0                    63000  \n",
       "1                    63000  \n",
       "2                    63000  \n",
       "3                    63000  \n",
       "4                    63000  \n",
       "...                    ...  \n",
       "79454                15000  \n",
       "79455                15000  \n",
       "79456                15000  \n",
       "79457                15000  \n",
       "79458                15000  \n",
       "\n",
       "[79459 rows x 26 columns]"
      ]
     },
     "execution_count": 3,
     "metadata": {},
     "output_type": "execute_result"
    }
   ],
   "source": [
    "df"
   ]
  },
  {
   "cell_type": "code",
   "execution_count": null,
   "metadata": {},
   "outputs": [],
   "source": [
    "#Data is from April 2012 to Mar 2013"
   ]
  },
  {
   "cell_type": "code",
   "execution_count": 13,
   "metadata": {},
   "outputs": [
    {
     "data": {
      "text/plain": [
       "<matplotlib.axes._subplots.AxesSubplot at 0x1cec26b5248>"
      ]
     },
     "execution_count": 13,
     "metadata": {},
     "output_type": "execute_result"
    },
    {
     "data": {
      "image/png": "[encoded data removed]",
      "text/plain": [
       "<Figure size 432x288 with 1 Axes>"
      ]
     },
     "metadata": {
      "needs_background": "light"
     },
     "output_type": "display_data"
    }
   ],
   "source": [
    "df.columns\n",
    "sales_byweek = df.groupby('Date').Sales.sum()\n",
    "sales_byweek.plot()"
   ]
  },
  {
   "cell_type": "code",
   "execution_count": 11,
   "metadata": {},
   "outputs": [
    {
     "data": {
      "text/plain": [
       "<matplotlib.axes._subplots.AxesSubplot at 0x1cebe772848>"
      ]
     },
     "execution_count": 11,
     "metadata": {},
     "output_type": "execute_result"
    },
    {
     "data": {
      "image/png": "[encoded data removed]",
      "text/plain": [
       "<Figure size 432x288 with 1 Axes>"
      ]
     },
     "metadata": {
      "needs_background": "light"
     },
     "output_type": "display_data"
    }
   ],
   "source": [
    "sales_byweek.hist(bins=20)"
   ]
  },
  {
   "cell_type": "code",
   "execution_count": 5,
   "metadata": {},
   "outputs": [
    {
     "data": {
      "text/plain": [
       "Store_Num\n",
       "24    5806.36\n",
       "Name: Sales, dtype: float64"
      ]
     },
     "execution_count": 5,
     "metadata": {},
     "output_type": "execute_result"
    }
   ],
   "source": [
    "df[df.Date == '2012-08-08'].groupby('Store_Num').Sales.sum()\n",
    "# seems that only Store # 24 was operational on this date and hence not a real indicator of stores perf\n",
    "# Probably delete these data points ?\n",
    "# simulate a data that looks like the distribution from that particular store and amounts to\n",
    "# the mean of the year."
   ]
  },
  {
   "cell_type": "code",
   "execution_count": 6,
   "metadata": {},
   "outputs": [
    {
     "data": {
      "text/plain": [
       "Store_Num\n",
       "7    12955.34\n",
       "Name: Sales, dtype: float64"
      ]
     },
     "execution_count": 6,
     "metadata": {},
     "output_type": "execute_result"
    }
   ],
   "source": [
    "df[df.Date == '2012-04-28'].groupby('Store_Num').Sales.sum()\n",
    "# seems that only Store # 7 was operational on this date and hence not a real indicator of stores perf\n",
    "# Probably delete these data points ?\n",
    "# simulate a data that looks like the distribution from that particular store and amounts to\n",
    "# the mean of the year."
   ]
  },
  {
   "cell_type": "code",
   "execution_count": 7,
   "metadata": {},
   "outputs": [
    {
     "data": {
      "text/plain": [
       "<matplotlib.axes._subplots.AxesSubplot at 0x1cec151e2c8>"
      ]
     },
     "execution_count": 7,
     "metadata": {},
     "output_type": "execute_result"
    },
    {
     "data": {
      "image/png": "[encoded data removed]",
      "text/plain": [
       "<Figure size 432x288 with 1 Axes>"
      ]
     },
     "metadata": {
      "needs_background": "light"
     },
     "output_type": "display_data"
    }
   ],
   "source": [
    "county_sales = df.groupby('Store_County').Sales.sum()\n",
    "county_sales.sort_values(ascending = False).plot(kind='bar')"
   ]
  },
  {
   "cell_type": "code",
   "execution_count": 8,
   "metadata": {},
   "outputs": [
    {
     "data": {
      "text/plain": [
       "<matplotlib.axes._subplots.AxesSubplot at 0x1cec1781308>"
      ]
     },
     "execution_count": 8,
     "metadata": {},
     "output_type": "execute_result"
    },
    {
     "data": {
      "image/png": "[encoded data removed]",
      "text/plain": [
       "<Figure size 432x288 with 1 Axes>"
      ]
     },
     "metadata": {
      "needs_background": "light"
     },
     "output_type": "display_data"
    }
   ],
   "source": [
    "store_sales = df.groupby('Store_Num').Sales.sum()\n",
    "store_sales.sort_values(ascending = False).plot(kind='bar')"
   ]
  },
  {
   "cell_type": "code",
   "execution_count": 9,
   "metadata": {},
   "outputs": [
    {
     "data": {
      "text/plain": [
       "<matplotlib.axes._subplots.AxesSubplot at 0x1cec25483c8>"
      ]
     },
     "execution_count": 9,
     "metadata": {},
     "output_type": "execute_result"
    },
    {
     "data": {
      "image/png": "[encoded data removed]",
      "text/plain": [
       "<Figure size 432x288 with 1 Axes>"
      ]
     },
     "metadata": {
      "needs_background": "light"
     },
     "output_type": "display_data"
    }
   ],
   "source": [
    "best_seller = df.groupby('Description').Sales.sum().sort_values(ascending=False).head(10)\n",
    "best_seller.plot(kind='bar')"
   ]
  },
  {
   "cell_type": "code",
   "execution_count": null,
   "metadata": {},
   "outputs": [],
   "source": []
  }
 ],
 "metadata": {
  "kernelspec": {
   "display_name": "Python 3",
   "language": "python",
   "name": "python3"
  },
  "language_info": {
   "codemirror_mode": {
    "name": "ipython",
    "version": 3
   },
   "file_extension": ".py",
   "mimetype": "text/x-python",
   "name": "python",
   "nbconvert_exporter": "python",
   "pygments_lexer": "ipython3",
   "version": "3.7.7"
  },
  "latex_envs": {
   "LaTeX_envs_menu_present": true,
   "autoclose": false,
   "autocomplete": true,
   "bibliofile": "biblio.bib",
   "cite_by": "apalike",
   "current_citInitial": 1,
   "eqLabelWithNumbers": true,
   "eqNumInitial": 1,
   "hotkeys": {
    "equation": "Ctrl-E",
    "itemize": "Ctrl-I"
   },
   "labels_anchors": false,
   "latex_user_defs": false,
   "report_style_numbering": false,
   "user_envs_cfg": false
  }
 },
 "nbformat": 4,
 "nbformat_minor": 4
}
